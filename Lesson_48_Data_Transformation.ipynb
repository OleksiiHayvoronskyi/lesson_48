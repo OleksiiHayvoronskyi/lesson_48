{
 "cells": [
  {
   "cell_type": "markdown",
   "source": [
    "**Завдання**\n",
    "### Застосуйте описані в лекції методи траснформації даних на датасеті *Data_to_Transform*, який містить:\n",
    "* помірно зміщені праворуч дані (Moderate Positive Skew);\n",
    "* сильно зміщені праворуч дані (Highly Positive Skew);\n",
    "* помірно зміщені ліворуч дані (Moderate Negative Skew);\n",
    "* сильно зміщені ліворуч дані (Highly Negative Skew).\n",
    "### Оцініть результати трансформацій через квантильно-квантильні графіки."
   ],
   "metadata": {
    "collapsed": false
   }
  },
  {
   "cell_type": "code",
   "execution_count": 1,
   "outputs": [],
   "source": [
    "# Libraries are required.\n",
    "import pandas as pd\n",
    "import numpy as np\n",
    "import matplotlib\n",
    "import matplotlib.pyplot as plt\n",
    "import seaborn as sns\n",
    "import scipy.stats as stats\n",
    "import statsmodels.api as sm\n"
   ],
   "metadata": {
    "collapsed": false
   }
  },
  {
   "cell_type": "code",
   "execution_count": null,
   "outputs": [],
   "source": [],
   "metadata": {
    "collapsed": false
   }
  }
 ],
 "metadata": {
  "kernelspec": {
   "display_name": "Python 3",
   "language": "python",
   "name": "python3"
  },
  "language_info": {
   "codemirror_mode": {
    "name": "ipython",
    "version": 2
   },
   "file_extension": ".py",
   "mimetype": "text/x-python",
   "name": "python",
   "nbconvert_exporter": "python",
   "pygments_lexer": "ipython2",
   "version": "2.7.6"
  }
 },
 "nbformat": 4,
 "nbformat_minor": 0
}
